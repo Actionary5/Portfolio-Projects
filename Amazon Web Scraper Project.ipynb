{
 "cells": [
  {
   "cell_type": "code",
   "execution_count": 2,
   "id": "effa8396-8b73-4b0d-90a9-031a9f54a37e",
   "metadata": {},
   "outputs": [],
   "source": [
    "# Import Libraries\n",
    "\n",
    "from bs4 import BeautifulSoup\n",
    "import requests\n",
    "import time\n",
    "import datetime\n",
    "\n",
    "import smtplib"
   ]
  },
  {
   "cell_type": "code",
   "execution_count": 18,
   "id": "7190345f-96e8-4853-baba-3cb8f1295774",
   "metadata": {
    "tags": []
   },
   "outputs": [
    {
     "name": "stdout",
     "output_type": "stream",
     "text": [
      "\n",
      "            LINC Pentonic B-RT Ball Point Pen - Blister Pack of 10 (0.7mm, Blue Ink)\n",
      "           \n",
      "\n",
      "                         240\n",
      "                         \n",
      "                          .\n",
      "                         \n",
      "\n"
     ]
    }
   ],
   "source": [
    "# Connect to Website\n",
    "\n",
    "URL = 'https://www.amazon.in/gp/product/B07ZBJHHQF/ref=ox_sc_saved_title_2?smid=A1WYWER0W24N8S&psc=1'\n",
    "\n",
    "headers = {\"User-Agent\": \"Mozilla/5.0 (Windows NT 10.0; Win64; x64) AppleWebKit/537.36 (KHTML, like Gecko) Chrome/102.0.0.0 Safari/537.36 (KHTML, like Gecko) Chrome/78.0.3904.108 Safari/537.36\", \"Accept-Encoding\":\"gzip, deflate\", \"Accept\":\"text/html,application/xhtml+xml,application/xml;q=0.9,*/*;q=0.8\", \"DNT\":\"1\",\"Connection\":\"close\", \"Upgrade-Insecure-Requests\":\"1\"}\n",
    "\n",
    "page = requests.get(URL,headers=headers)\n",
    "\n",
    "soup1 = BeautifulSoup(page.content,'html.parser')\n",
    "\n",
    "soup2 = BeautifulSoup(soup1.prettify(), 'html.parser')\n",
    "\n",
    "title = soup2.find(id='productTitle').get_text()\n",
    "\n",
    "price = soup2.find(\"span\", {\"class\": \"a-price-whole\"}).get_text()\n",
    "\n",
    "print(title)\n",
    "\n",
    "print(price)"
   ]
  },
  {
   "cell_type": "code",
   "execution_count": 26,
   "id": "12b06e66-cf5d-4799-87f6-40b4f35c93c4",
   "metadata": {},
   "outputs": [
    {
     "name": "stdout",
     "output_type": "stream",
     "text": [
      "LINC Pentonic B-RT Ball Point Pen - Blister Pack of 10 (0.7mm, Blue Ink)\n",
      "240\n"
     ]
    }
   ],
   "source": [
    "title = title.strip()\n",
    "price = price.split()[0]\n",
    "print(title)\n",
    "print(price)"
   ]
  },
  {
   "cell_type": "code",
   "execution_count": 37,
   "id": "4b52c491-52d9-48bb-bfc1-eb5f3ab24380",
   "metadata": {},
   "outputs": [
    {
     "name": "stdout",
     "output_type": "stream",
     "text": [
      "2022-06-19\n"
     ]
    }
   ],
   "source": [
    "import datetime\n",
    "\n",
    "today = datetime.date.today()\n",
    "print(today)"
   ]
  },
  {
   "cell_type": "code",
   "execution_count": 38,
   "id": "4525dbf3-25c7-457e-bd63-01358ea5df10",
   "metadata": {},
   "outputs": [],
   "source": [
    "import csv\n",
    "\n",
    "header = ['Title', 'Price', 'Date']\n",
    "data = [title,price,today]\n",
    "\n",
    "# with open('AmazonWebScraperDataset.csv', 'w',newline='', encoding='UTF8' ) as f:\n",
    "    # writer = csv.writer(f)\n",
    "    # writer.writerow(header)\n",
    "    # writer.writerow(data)"
   ]
  },
  {
   "cell_type": "code",
   "execution_count": 39,
   "id": "c5897420-6fbc-4bc2-aef0-9f79e99da1ae",
   "metadata": {},
   "outputs": [],
   "source": [
    "import pandas as pd"
   ]
  },
  {
   "cell_type": "code",
   "execution_count": 43,
   "id": "b80ecc8a-d0f4-4acb-b3c7-28803b6a3cbc",
   "metadata": {},
   "outputs": [
    {
     "name": "stdout",
     "output_type": "stream",
     "text": [
      "                                               Title  Price        Date\n",
      "0  LINC Pentonic B-RT Ball Point Pen - Blister Pa...    240  2022-06-19\n",
      "1  LINC Pentonic B-RT Ball Point Pen - Blister Pa...    240  2022-06-19\n"
     ]
    }
   ],
   "source": [
    "df = pd.read_csv('AmazonWebScraperDataset.csv')\n",
    "print(df)"
   ]
  },
  {
   "cell_type": "code",
   "execution_count": 42,
   "id": "f5afc69d-3c84-47fd-b88b-baac63aedcaa",
   "metadata": {},
   "outputs": [],
   "source": [
    "# Appending Data to csv\n",
    "with open('AmazonWebScraperDataset.csv', 'a+',newline='', encoding='UTF8' ) as f:\n",
    "    writer = csv.writer(f)\n",
    "    writer.writerow(data)"
   ]
  },
  {
   "cell_type": "code",
   "execution_count": 44,
   "id": "7a3e630f-031a-4248-a58f-ee8ade7bb8eb",
   "metadata": {},
   "outputs": [],
   "source": [
    "def check_price():\n",
    "    \n",
    "    URL = 'https://www.amazon.in/gp/product/B07ZBJHHQF/ref=ox_sc_saved_title_2?smid=A1WYWER0W24N8S&psc=1'\n",
    "\n",
    "    headers = {\"User-Agent\": \"Mozilla/5.0 (Windows NT 10.0; Win64; x64) AppleWebKit/537.36 (KHTML, like Gecko) Chrome/102.0.0.0 Safari/537.36 (KHTML, like Gecko) Chrome/78.0.3904.108 Safari/537.36\", \"Accept-Encoding\":\"gzip, deflate\", \"Accept\":\"text/html,application/xhtml+xml,application/xml;q=0.9,*/*;q=0.8\", \"DNT\":\"1\",\"Connection\":\"close\", \"Upgrade-Insecure-Requests\":\"1\"}\n",
    "\n",
    "    page = requests.get(URL,headers=headers)\n",
    "\n",
    "    soup1 = BeautifulSoup(page.content,'html.parser')\n",
    "\n",
    "    soup2 = BeautifulSoup(soup1.prettify(), 'html.parser')\n",
    "\n",
    "    title = soup2.find(id='productTitle').get_text()\n",
    "\n",
    "    price = soup2.find(\"span\", {\"class\": \"a-price-whole\"}).get_text()\n",
    "    \n",
    "    title = title.strip()\n",
    "    \n",
    "    price = price.split()[0]\n",
    "\n",
    "    import datetime\n",
    "\n",
    "    today = datetime.date.today()\n",
    "    \n",
    "    import csv\n",
    "\n",
    "    header = ['Title', 'Price', 'Date']\n",
    "    data = [title,price,today]\n",
    "    \n",
    "    with open('AmazonWebScraperDataset.csv', 'a+',newline='', encoding='UTF8' ) as f:\n",
    "        writer = csv.writer(f)\n",
    "        writer.writerow(data)\n",
    "        \n",
    "    if (int(price) < 210):\n",
    "        send_mail()"
   ]
  },
  {
   "cell_type": "code",
   "execution_count": 47,
   "id": "74bc7a79-0ac6-4ea8-a347-4f2353656f5e",
   "metadata": {},
   "outputs": [
    {
     "ename": "KeyboardInterrupt",
     "evalue": "",
     "output_type": "error",
     "traceback": [
      "\u001b[1;31m---------------------------------------------------------------------------\u001b[0m",
      "\u001b[1;31mKeyboardInterrupt\u001b[0m                         Traceback (most recent call last)",
      "\u001b[1;32mC:\\Users\\SANCHI~1\\AppData\\Local\\Temp/ipykernel_9260/4212351095.py\u001b[0m in \u001b[0;36m<module>\u001b[1;34m\u001b[0m\n\u001b[0;32m      1\u001b[0m \u001b[1;32mwhile\u001b[0m\u001b[1;33m(\u001b[0m\u001b[1;32mTrue\u001b[0m\u001b[1;33m)\u001b[0m\u001b[1;33m:\u001b[0m\u001b[1;33m\u001b[0m\u001b[1;33m\u001b[0m\u001b[0m\n\u001b[0;32m      2\u001b[0m     \u001b[0mcheck_price\u001b[0m\u001b[1;33m(\u001b[0m\u001b[1;33m)\u001b[0m\u001b[1;33m\u001b[0m\u001b[1;33m\u001b[0m\u001b[0m\n\u001b[1;32m----> 3\u001b[1;33m     \u001b[0mtime\u001b[0m\u001b[1;33m.\u001b[0m\u001b[0msleep\u001b[0m\u001b[1;33m(\u001b[0m\u001b[1;36m5\u001b[0m\u001b[1;33m)\u001b[0m\u001b[1;33m\u001b[0m\u001b[1;33m\u001b[0m\u001b[0m\n\u001b[0m",
      "\u001b[1;31mKeyboardInterrupt\u001b[0m: "
     ]
    }
   ],
   "source": [
    "while(True):\n",
    "    check_price()\n",
    "    time.sleep(86400)"
   ]
  },
  {
   "cell_type": "code",
   "execution_count": 52,
   "id": "e4553b5c-570f-4878-ae9f-8433f5853213",
   "metadata": {},
   "outputs": [
    {
     "name": "stdout",
     "output_type": "stream",
     "text": [
      "                                               Title  Price        Date\n",
      "0  LINC Pentonic B-RT Ball Point Pen - Blister Pa...    240  2022-06-19\n",
      "1  LINC Pentonic B-RT Ball Point Pen - Blister Pa...    240  2022-06-19\n",
      "2  LINC Pentonic B-RT Ball Point Pen - Blister Pa...    240  2022-06-19\n",
      "3  LINC Pentonic B-RT Ball Point Pen - Blister Pa...    240  2022-06-19\n",
      "4  LINC Pentonic B-RT Ball Point Pen - Blister Pa...    240  2022-06-19\n",
      "5  LINC Pentonic B-RT Ball Point Pen - Blister Pa...    240  2022-06-19\n",
      "6  LINC Pentonic B-RT Ball Point Pen - Blister Pa...    240  2022-06-19\n"
     ]
    }
   ],
   "source": [
    "df = pd.read_csv('AmazonWebScraperDataset.csv')\n",
    "print(df)"
   ]
  },
  {
   "cell_type": "code",
   "execution_count": null,
   "id": "b64cb086-dd44-42f8-ba13-fc64317c84cb",
   "metadata": {},
   "outputs": [],
   "source": [
    "def send_mail():\n",
    "    server = smtplib.SMTP_SSL('smtp.gmail.com',465)\n",
    "    server.ehlo()\n",
    "    #server.starttls()\n",
    "    server.ehlo()\n",
    "    server.login('tomar.sanchit150501@gmail.com','xxxxxxxxxxxxxx')\n",
    "    \n",
    "    subject = \"The Pen you want is below Rs. 210! Now is your chance to buy!\"\n",
    "    body = \"Sanchit, This is the moment we have been waiting for. Now is your chance to pick up the pen of your dreams. Don't mess it up! Link here: https://www.amazon.in/gp/product/B07ZBJHHQF/ref=ox_sc_saved_image_2?smid=A1WYWER0W24N8S&psc=1\"\n",
    "   \n",
    "    msg = f\"Subject: {subject}\\n\\n{body}\"\n",
    "    \n",
    "    server.sendmail(\n",
    "        'tomar.sanchit150501@gmail.com',\n",
    "        msg\n",
    "     \n",
    "    )"
   ]
  }
 ],
 "metadata": {
  "kernelspec": {
   "display_name": "Python 3 (ipykernel)",
   "language": "python",
   "name": "python3"
  },
  "language_info": {
   "codemirror_mode": {
    "name": "ipython",
    "version": 3
   },
   "file_extension": ".py",
   "mimetype": "text/x-python",
   "name": "python",
   "nbconvert_exporter": "python",
   "pygments_lexer": "ipython3",
   "version": "3.9.7"
  }
 },
 "nbformat": 4,
 "nbformat_minor": 5
}
